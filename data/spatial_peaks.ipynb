{
 "cells": [
  {
   "cell_type": "code",
   "execution_count": null,
   "metadata": {},
   "outputs": [],
   "source": [
    "from spatial_peaks import *\n",
    "\n",
    "#create two filters: laplacian and gaussian\n",
    "laplacian = np.zeros([3,3])\n",
    "laplacian[np.unravel_index(range(9)[1::2], (3,3))] = -1\n",
    "laplacian[1,1] = 4\n",
    "\n",
    "gaussian = np.ones([3,3])\n",
    "gaussian[np.unravel_index(range(9)[1::2], (3,3))] = 2\n",
    "gaussian[1,1] = 4\n",
    "gaussian *= 1/16\n",
    "\n",
    "prediction1 = []\n",
    "for ind, image in enumerate(images):\n",
    "    # image_curvature = convolve(image, laplacian) # not used\n",
    "    smooth_image = convolve(image, gaussian) # smoothen it\n",
    "    smooth_curvature = convolve(smooth_image, laplacian) # and then find the curvature of the smoothed image\n",
    "    bulged_mask = smooth_curvature>smooth_curvature.max() * 0.05 # find where does the bulge mask\n",
    "    local_max_mask = is_local_max_2d_wide(image)\n",
    "\n",
    "    pred1 = np.logical_and(local_max_mask, bulged_mask).sum() # >90 % accuracy\n",
    "    \"\"\"\n",
    "    Failed ideas:\n",
    "    pred1 = (image[is_local_max_2d_wide(image_curvature, diagonal=True)] > np.percentile(image.flatten(), 245/256*100)).sum() # 87.76 % accuracy\n",
    "    pred2 = (image[is_local_max_2d_wide(smooth_image, diagonal=True)] > np.percentile(image.flatten(), 245/256*100)).sum() # 85.13 % accuracy\n",
    "    pred2 = (image[peak_local_max(image_curvature)]>np.percentile(image.flatten(), 250/256*100)).sum()\n",
    "    pred3 = (image[peak_local_max(smooth_image)]>np.percentile(image.flatten(), 250/256*100)).sum()\n",
    "    \"\"\"\n",
    "    prediction1.append(pred1)\n",
    "\n",
    "# get the labels (truths)\n",
    "labels = 2 - (energies==0).sum(axis=1)\n",
    "# Peak must be at the center of a blob (contiguous area with 3+ pixels) where curvature is negative in both directions\n",
    "\n",
    "truth_pred = ary([labels, prediction1]).T"
   ]
  },
  {
   "cell_type": "code",
   "execution_count": null,
   "metadata": {},
   "outputs": [],
   "source": [
    "print(confusion_matrix(labels, prediction1)) # display result\n",
    "print(\"The columns are the predicted number of events found in that image (ascending from 1);\")\n",
    "print(\"the rows are the true number of events actually existing in that image (ascending from 1, top to bottom).\")"
   ]
  },
  {
   "cell_type": "code",
   "execution_count": null,
   "metadata": {},
   "outputs": [],
   "source": [
    "# <CHANGE HERE>CHOOESE TYPE OF ERROR TO BE EXAMINED HERE\n",
    "predicted_as = 1 # event(s)\n",
    "actually_has = 2 # event(s)\n",
    "# END OF USER DEFINED SECTION </CHANGE HERE>\n",
    "\n",
    "chosen_to_be_examined = (truth_pred==[actually_has,predicted_as]).all(axis=1)\n",
    "for num, image in enumerate(images[chosen_to_be_examined][:num_samples]):\n",
    "    ind = np.where(chosen_to_be_examined)[0][num]\n",
    "    replay = True\n",
    "    while replay:\n",
    "        # introduce information about neighbourhood\n",
    "        image_curvature = convolve(image, laplacian) # introduce some global information\n",
    "        smooth_image = convolve(image, gaussian)\n",
    "        smooth_curvature = convolve(smooth_image, laplacian)\n",
    "        bulged_mask = smooth_curvature>smooth_curvature.max()*0.05\n",
    "        local_max_mask = is_local_max_2d_wide(image)\n",
    "\n",
    "        for img, name in zip([image, image_curvature, smooth_image, smooth_curvature, bulged_mask, local_max_mask],\n",
    "                            ['image', 'image_curvature', 'smooth_image', 'smooth_curvature', 'bulged_mask', 'local_max_mask']):\n",
    "            sns.heatmap(img)\n",
    "            plt.title(f'{ind}: '+name+f' #events={labels[ind]}')\n",
    "            plt.show()\n",
    "        if len(input('Enter any character before to move onto the next plot, or ctrl+c to stop. Press only enter to replay this plot.'))>0:\n",
    "            replay=False"
   ]
  }
 ],
 "metadata": {
  "kernelspec": {
   "display_name": "Python 3",
   "language": "python",
   "name": "python3"
  },
  "language_info": {
   "codemirror_mode": {
    "name": "ipython",
    "version": 3
   },
   "file_extension": ".py",
   "mimetype": "text/x-python",
   "name": "python",
   "nbconvert_exporter": "python",
   "pygments_lexer": "ipython3",
   "version": "3.8.2"
  }
 },
 "nbformat": 4,
 "nbformat_minor": 4
}
